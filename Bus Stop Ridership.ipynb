{
 "cells": [
  {
   "cell_type": "markdown",
   "metadata": {},
   "source": [
    "Download the Census Dissemination Block geometry and population and dwelling counts. "
   ]
  },
  {
   "cell_type": "code",
   "execution_count": null,
   "metadata": {},
   "outputs": [],
   "source": [
    "import os\n",
    "import requests\n",
    "\n",
    "if not os.path.exists('./Data/DB_attr'):\n",
    "    os.mkdir('./Data/DB_attr')\n",
    "if not os.path.exists('./Data/DB_shape'):\n",
    "    os.mkdir('./Data/DB_shape')\n",
    "    \n",
    "download = requests.get('http://www12.statcan.gc.ca/census-recensement/2016/geo/ref/gaf/files-fichiers/2016_92-151_XBB_csv.zip')\n",
    "with open('./Data/DB_attr/DB_attr_2016.zip', 'wb') as f:\n",
    "    f.write(download.content)\n",
    "    \n",
    "download = requests.get('http://www12.statcan.gc.ca/census-recensement/2011/geo/bound-limit/files-fichiers/2016/ldb_000b16a_e.zip')\n",
    "with open('./Data/DB_shape/DB_shape_2016.zip', 'wb') as f:\n",
    "    f.write(download.content)"
   ]
  },
  {
   "cell_type": "markdown",
   "metadata": {},
   "source": [
    "Extract the zip files into their data folders."
   ]
  },
  {
   "cell_type": "code",
   "execution_count": null,
   "metadata": {},
   "outputs": [],
   "source": [
    "from zipfile import ZipFile\n",
    "\n",
    "with ZipFile('./Data/DB_attr/DB_attr_2016.zip', 'r') as zip_file:\n",
    "    zip_file.extractall('./Data/DB_attr')\n",
    "    \n",
    "with ZipFile('./Data/DB_shape/DB_shape_2016.zip', 'r') as zip_file:\n",
    "    zip_file.extractall('./Data/DB_shape')"
   ]
  },
  {
   "cell_type": "markdown",
   "metadata": {},
   "source": [
    "Filter the DB Boundary shapefile to only include BC. Using the shapefile library allows us to lazy load the shapefile features making it far more memory efficient."
   ]
  },
  {
   "cell_type": "code",
   "execution_count": null,
   "metadata": {},
   "outputs": [],
   "source": [
    "import shapefile\n",
    "\n",
    "reader = shapefile.Reader('./Data/DB_shape/ldb_000b16a_e.shp')\n",
    "\n",
    "writer  = shapefile.Writer()\n",
    "writer.fields = reader.fields[1:]\n",
    "\n",
    "shape_records = reader.iterShapeRecords()\n",
    "\n",
    "for shape_record in shape_records:\n",
    "    if shape_record.record[3] == '59':\n",
    "        writer.record(*shape_record.record)\n",
    "        writer._shapes.append(shape_record.shape)\n",
    "writer.save('./Data/DB_shape/BC_DB_attr_2016.shp')"
   ]
  },
  {
   "cell_type": "markdown",
   "metadata": {},
   "source": [
    "Load the spatial data to a GeoDataFrame using GeoPandas"
   ]
  },
  {
   "cell_type": "code",
   "execution_count": null,
   "metadata": {},
   "outputs": [],
   "source": [
    "import geopandas as gpd\n",
    "\n",
    "db_shapes = gpd.read_file('./Data/DB_shape/BC_DB_attr_2016.shp')"
   ]
  },
  {
   "cell_type": "code",
   "execution_count": null,
   "metadata": {},
   "outputs": [],
   "source": [
    "db_shapes"
   ]
  },
  {
   "cell_type": "code",
   "execution_count": null,
   "metadata": {},
   "outputs": [],
   "source": []
  }
 ],
 "metadata": {
  "kernelspec": {
   "display_name": "Python 3",
   "language": "python",
   "name": "python3"
  },
  "language_info": {
   "codemirror_mode": {
    "name": "ipython",
    "version": 3
   },
   "file_extension": ".py",
   "mimetype": "text/x-python",
   "name": "python",
   "nbconvert_exporter": "python",
   "pygments_lexer": "ipython3",
   "version": "3.6.4"
  }
 },
 "nbformat": 4,
 "nbformat_minor": 2
}
